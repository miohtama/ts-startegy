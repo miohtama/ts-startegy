{
 "cells": [
  {
   "cell_type": "code",
   "execution_count": 6,
   "metadata": {
    "jukit_cell_id": "7p077yvyxF",
    "ExecuteTime": {
     "end_time": "2023-06-01T06:38:41.407650Z",
     "start_time": "2023-06-01T06:38:41.399386Z"
    }
   },
   "outputs": [],
   "source": [
    "import pandas as pd\n",
    "import datetime\n",
    "\n",
    "from lib.ts_backtester import Backtester\n",
    "from strategies.rsi_2.S_rsi_plot import plot\n",
    "\n",
    "from tradeexecutor.state.trade import TradeExecution\n",
    "from tradeexecutor.strategy.pandas_trader.position_manager import PositionManager\n",
    "from tradeexecutor.state.state import State\n",
    "from tradingstrategy.universe import Universe\n",
    "\n",
    "import pandas_ta as ta"
   ]
  },
  {
   "cell_type": "code",
   "execution_count": 7,
   "metadata": {
    "jukit_cell_id": "yQB6fLcUWK",
    "ExecuteTime": {
     "end_time": "2023-06-01T06:38:47.585224Z",
     "start_time": "2023-06-01T06:38:41.404223Z"
    }
   },
   "outputs": [],
   "source": [
    "from tradingstrategy.timebucket import TimeBucket\n",
    "from tradingstrategy.chain import ChainId\n",
    "\n",
    "# Make sure that backtester is defined or not\n",
    "backtester = Backtester(\n",
    "    candle_time_bucket=TimeBucket.h4,\n",
    "    stop_loss_time_bucket=TimeBucket.h1,\n",
    "    trading_pair=[(ChainId.ethereum, \"uniswap-v3\", \"WETH\", \"USDC\", 0.0005)],\n",
    "    start_at=datetime.datetime(2022, 1, 1),\n",
    "    end_at=datetime.datetime(2023, 10, 4),\n",
    "    reserve_currency=\"USDC\",\n",
    ")\n",
    "# try:\n",
    "#     backtester\n",
    "# except NameError:\n",
    "#     print(\"backtester is not defined\")\n",
    "#     backtester = Backtester(\n",
    "#         timeframe=TimeBucket.h4,\n",
    "#         trading_pair=(\"WBNB\", \"BUSD\"),\n",
    "#         chain_id=ChainId.bsc,\n",
    "#         exchange_slug=\"pancakeswap-v2\",\n",
    "#     )\n",
    "#     timeframe=TimeBucket.h4,\n",
    "#     trading_pair=(\"WBNB\", \"BUSD\"),\n",
    "#     chain_id=ChainId.bsc,\n",
    "#     exchange_slug=\"pancakeswap-v2\",\n",
    "# )"
   ]
  },
  {
   "cell_type": "code",
   "execution_count": 8,
   "metadata": {
    "jukit_cell_id": "0odf4siOwY",
    "ExecuteTime": {
     "end_time": "2023-06-01T06:38:49.192758Z",
     "start_time": "2023-06-01T06:38:47.591252Z"
    }
   },
   "outputs": [
    {
     "name": "stdout",
     "output_type": "stream",
     "text": [
      "2023-06-01 00:00:00\n"
     ]
    },
    {
     "data": {
      "text/plain": "  0%|          | 0/7776000 [00:00<?, ?it/s]",
      "application/vnd.jupyter.widget-view+json": {
       "version_major": 2,
       "version_minor": 0,
       "model_id": "fe40aa0a33e54c849b9cac67eb4a535e"
      }
     },
     "metadata": {},
     "output_type": "display_data"
    },
    {
     "name": "stdout",
     "output_type": "stream",
     "text": [
      "Backtesting completed, backtested strategy made 33 trades\n"
     ]
    }
   ],
   "source": [
    "ma_long = 216\n",
    "ma_short = 9\n",
    "rsi_cutt = 13\n",
    "atr_distance = 2\n",
    "\n",
    "import numpy as np\n",
    "\n",
    "\n",
    "def get_signals(candles):\n",
    "    close = candles[\"close\"].iloc[-1]\n",
    "    low = candles[\"low\"].iloc[-1]\n",
    "\n",
    "    # Calculate indicators\n",
    "    sma_short = ta.sma(candles[\"close\"], length=ma_short)\n",
    "    sma_short = ta.sma(candles[\"close\"], length=ma_short).iloc[-1]\n",
    "    sma_long = ta.sma(candles[\"close\"], length=ma_long).iloc[-1]\n",
    "    rsi = ta.rsi(candles[\"close\"], length=2).iloc[-1]\n",
    "    atr = ta.atr(candles[\"high\"], candles[\"low\"], candles[\"close\"], length=14).iloc[-1]\n",
    "\n",
    "    # Calculate signals\n",
    "    entry = close >= sma_long and rsi <= rsi_cutt\n",
    "    exit = close > sma_short\n",
    "    sl = low - atr * atr_distance\n",
    "    sl_pct = float(round(sl / candles[\"open\"].iloc[-1], 2))\n",
    "\n",
    "    indicators = {\n",
    "        \"sma_short\": sma_short,\n",
    "        \"sma_long\": sma_long,\n",
    "        \"rsi\": rsi,\n",
    "        \"atr\": atr,\n",
    "    }\n",
    "    return entry, exit, sl_pct, indicators\n",
    "\n",
    "\n",
    "def calculate_size(state, close):\n",
    "    cash = state.portfolio.get_current_cash()\n",
    "    return cash * 0.99\n",
    "\n",
    "\n",
    "def loop(timestamp, universe, state, pricing_model, cycle_debug_data):\n",
    "    # The pair we are trading\n",
    "    trades = []\n",
    "    pair = universe.pairs.get_single()\n",
    "    pair.fee = 0.0050\n",
    "\n",
    "    candles: pd.DataFrame = universe.candles.get_single_pair_data(\n",
    "        timestamp, sample_count=ma_long\n",
    "    )\n",
    "\n",
    "    if len(candles) < ma_long:\n",
    "        # Backtest starting.\n",
    "        # By default get_single_pair_data() returns the candles prior to the `timestamp`,\n",
    "        # the behavior can be changed with get_single_pair_data(allow_current=True).\n",
    "        # At the start of the backtest, we do not have any previous candle available yet,\n",
    "        # so we cannot ask the the close price.\n",
    "        return trades\n",
    "\n",
    "    current_price = candles[\"close\"].iloc[-1]\n",
    "\n",
    "    entry, exit, sl, indicators = get_signals(candles)\n",
    "\n",
    "    # Create a position manager helper class that allows us easily to create\n",
    "    # opening/closing trades for different positions\n",
    "    position_manager = PositionManager(timestamp, universe, state, pricing_model)\n",
    "    buy_amount = calculate_size(state, current_price)\n",
    "\n",
    "    if not position_manager.is_any_open():\n",
    "        if entry:\n",
    "            trades += position_manager.open_1x_long(pair, buy_amount, stop_loss_pct=sl)\n",
    "    else:\n",
    "        if exit:\n",
    "            trades += position_manager.close_all()\n",
    "\n",
    "    plot(state, timestamp, indicators)\n",
    "\n",
    "    return trades\n",
    "\n",
    "\n",
    "start_at = datetime.datetime(2023, 3, 3)\n",
    "end_at = datetime.datetime(2023, 6, 1)\n",
    "\n",
    "\n",
    "backtester.backtest(start_at, end_at, loop)\n",
    "#backtester.stats()\n",
    "# backtester.general_stats()\n",
    "# backtester.plot()"
   ]
  },
  {
   "cell_type": "markdown",
   "source": [
    "## RSI issue benchmark\n",
    "\n",
    "Check Mar 28, 16:00 timestamp for\n",
    "\n",
    "- Backtesting visualisation\n",
    "- Below the raw market data visualisation\n",
    "- RSI should increase on a green candle, decrease on a red candle"
   ],
   "metadata": {
    "collapsed": false
   }
  },
  {
   "cell_type": "code",
   "execution_count": 9,
   "outputs": [
    {
     "ename": "TypeError",
     "evalue": "export_plot_as_dataframe() got an unexpected keyword argument 'correct_look_ahead_bias_negation'",
     "output_type": "error",
     "traceback": [
      "\u001B[0;31m---------------------------------------------------------------------------\u001B[0m",
      "\u001B[0;31mTypeError\u001B[0m                                 Traceback (most recent call last)",
      "Cell \u001B[0;32mIn[9], line 10\u001B[0m\n\u001B[1;32m      7\u001B[0m candles \u001B[38;5;241m=\u001B[39m univese\u001B[38;5;241m.\u001B[39muniverse\u001B[38;5;241m.\u001B[39mcandles\u001B[38;5;241m.\u001B[39mget_single_pair_data()\n\u001B[1;32m      8\u001B[0m rsi_series \u001B[38;5;241m=\u001B[39m rsi(candles\u001B[38;5;241m.\u001B[39mclose, length\u001B[38;5;241m=\u001B[39m\u001B[38;5;241m2\u001B[39m)\n\u001B[0;32m---> 10\u001B[0m decision_making_rsi \u001B[38;5;241m=\u001B[39m \u001B[43mexport_plot_as_dataframe\u001B[49m\u001B[43m(\u001B[49m\u001B[43mstate\u001B[49m\u001B[38;5;241;43m.\u001B[39;49m\u001B[43mvisualisation\u001B[49m\u001B[38;5;241;43m.\u001B[39;49m\u001B[43mplots\u001B[49m\u001B[43m[\u001B[49m\u001B[38;5;124;43m\"\u001B[39;49m\u001B[38;5;124;43mRSI\u001B[39;49m\u001B[38;5;124;43m\"\u001B[39;49m\u001B[43m]\u001B[49m\u001B[43m,\u001B[49m\u001B[43m \u001B[49m\u001B[43mcorrect_look_ahead_bias_negation\u001B[49m\u001B[38;5;241;43m=\u001B[39;49m\u001B[38;5;28;43;01mTrue\u001B[39;49;00m\u001B[43m)\u001B[49m\n\u001B[1;32m     12\u001B[0m \u001B[38;5;28mprint\u001B[39m(\u001B[38;5;124m\"\u001B[39m\u001B[38;5;124mDecision time RSI (compensated)\u001B[39m\u001B[38;5;124m\"\u001B[39m)\n\u001B[1;32m     13\u001B[0m \u001B[38;5;66;03m#decision_making_rsi = decision_making_rsi.shift(periods=-1)\u001B[39;00m\n",
      "\u001B[0;31mTypeError\u001B[0m: export_plot_as_dataframe() got an unexpected keyword argument 'correct_look_ahead_bias_negation'"
     ]
    }
   ],
   "source": [
    "from tradeexecutor.visual.technical_indicator import export_plot_as_dataframe\n",
    "import plotly.express as px\n",
    "from pandas_ta.momentum import rsi\n",
    "\n",
    "state = backtester.state\n",
    "univese = backtester.universe\n",
    "candles = univese.universe.candles.get_single_pair_data()\n",
    "rsi_series = rsi(candles.close, length=2)\n",
    "\n",
    "decision_making_rsi = export_plot_as_dataframe(state.visualisation.plots[\"RSI\"], correct_look_ahead_bias_negation=True)\n",
    "\n",
    "print(\"Decision time RSI (compensated)\")\n",
    "#decision_making_rsi = decision_making_rsi.shift(periods=-1)\n",
    "display(decision_making_rsi[pd.Timestamp(\"2023-03-28 00:00\"):pd.Timestamp(\"2023-03-29 00:00\")])\n",
    "\n",
    "print(\"Market time RSI\")\n",
    "display(rsi_series[pd.Timestamp(\"2023-03-28 00:00\"):pd.Timestamp(\"2023-03-29 00:00\")])\n",
    "\n",
    "#fig = px.line(rsi_series)\n",
    "#fig.show()\n",
    "\n"
   ],
   "metadata": {
    "collapsed": false,
    "ExecuteTime": {
     "end_time": "2023-06-01T06:38:49.498789Z",
     "start_time": "2023-06-01T06:38:49.192067Z"
    }
   }
  },
  {
   "cell_type": "code",
   "execution_count": null,
   "metadata": {
    "jukit_cell_id": "twF6gWbIHX"
   },
   "outputs": [],
   "source": [
    "\n",
    "\n",
    "from tradeexecutor.analysis.trade_analyser import build_trade_analysis\n",
    "from IPython.core.display_functions import display\n",
    "\n",
    "analysis = build_trade_analysis(backtester.state.portfolio)\n",
    "from tradeexecutor.analysis.trade_analyser import expand_timeline\n",
    "\n",
    "timeline = analysis.create_timeline()\n",
    "\n",
    "expanded_timeline, apply_styles = expand_timeline(\n",
    "    backtester.universe.universe.exchanges, backtester.universe.universe.pairs, timeline\n",
    ")\n",
    "\n",
    "expanded_timeline.drop(\n",
    "    columns=[\n",
    "        \"Id\",\n",
    "        \"Remarks\",\n",
    "        \"Exchange\",\n",
    "        \"Trade count\",\n",
    "        \"Duration\",\n",
    "        \"Base asset\",\n",
    "        \"Quote asset\",\n",
    "        \"PnL %\",\n",
    "        \"PnL % raw\",\n",
    "    ],\n",
    "    inplace=True,\n",
    ")\n",
    "expanded_timeline.head()"
   ]
  },
  {
   "cell_type": "code",
   "execution_count": null,
   "metadata": {
    "jukit_cell_id": "MWZUTmPv42"
   },
   "outputs": [],
   "source": []
  }
 ],
 "metadata": {
  "anaconda-cloud": {},
  "kernelspec": {
   "display_name": "python",
   "language": "python",
   "name": "python3"
  }
 },
 "nbformat": 4,
 "nbformat_minor": 4
}
